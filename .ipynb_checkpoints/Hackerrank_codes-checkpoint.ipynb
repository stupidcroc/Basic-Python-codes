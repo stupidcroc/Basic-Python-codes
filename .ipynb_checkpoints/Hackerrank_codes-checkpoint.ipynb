{
 "cells": [
  {
   "cell_type": "code",
   "execution_count": 18,
   "metadata": {},
   "outputs": [
    {
     "name": "stdout",
     "output_type": "stream",
     "text": [
      "25\n"
     ]
    }
   ],
   "source": [
    "#basic stuff\n",
    "import numpy as np\n",
    "inputs = list(map(int,input().split()))"
   ]
  },
  {
   "cell_type": "code",
   "execution_count": 19,
   "metadata": {},
   "outputs": [
    {
     "name": "stdout",
     "output_type": "stream",
     "text": [
      "[25]\n"
     ]
    }
   ],
   "source": [
    "print(inputs)"
   ]
  },
  {
   "cell_type": "code",
   "execution_count": 20,
   "metadata": {},
   "outputs": [
    {
     "name": "stdout",
     "output_type": "stream",
     "text": [
      "565 52656 565 565 5252\n"
     ]
    }
   ],
   "source": [
    "#x = 5\n",
    "y = [int(x) for x in input().split()]"
   ]
  },
  {
   "cell_type": "code",
   "execution_count": 21,
   "metadata": {},
   "outputs": [
    {
     "name": "stdout",
     "output_type": "stream",
     "text": [
      "[565, 52656, 565, 565, 5252]\n"
     ]
    }
   ],
   "source": [
    "print(y)"
   ]
  },
  {
   "cell_type": "code",
   "execution_count": 23,
   "metadata": {},
   "outputs": [
    {
     "name": "stdout",
     "output_type": "stream",
     "text": [
      "5\n",
      "232 5464\n"
     ]
    }
   ],
   "source": [
    "t = int(input()) #for input 5\n",
    "arr = list(map(int,input().split()))"
   ]
  },
  {
   "cell_type": "code",
   "execution_count": 24,
   "metadata": {},
   "outputs": [
    {
     "name": "stdout",
     "output_type": "stream",
     "text": [
      "5\n",
      "[232, 5464]\n"
     ]
    }
   ],
   "source": [
    "print(t)\n",
    "print(arr)"
   ]
  },
  {
   "cell_type": "code",
   "execution_count": 25,
   "metadata": {},
   "outputs": [],
   "source": [
    "arr.sort()"
   ]
  },
  {
   "cell_type": "code",
   "execution_count": 26,
   "metadata": {},
   "outputs": [
    {
     "name": "stdout",
     "output_type": "stream",
     "text": [
      "[232, 5464]\n"
     ]
    }
   ],
   "source": [
    "print(arr)"
   ]
  },
  {
   "cell_type": "markdown",
   "metadata": {},
   "source": [
    "Context\n",
    "Given a  2D Array, :\n",
    "\n",
    "1 1 1 0 0 0\n",
    "0 1 0 0 0 0\n",
    "1 1 1 0 0 0\n",
    "0 0 0 0 0 0\n",
    "0 0 0 0 0 0\n",
    "0 0 0 0 0 0\n",
    "\n",
    "\n",
    "We define an hourglass in  to be a subset of values with indices falling in this pattern in 's graphical representation:\n",
    "\n",
    "\n",
    "a b c\n",
    "  d\n",
    "e f g\n",
    "\n",
    "\n",
    "There are  hourglasses in , and an hourglass sum is the sum of an hourglass' values.\n",
    "\n",
    "Task\n",
    "\n",
    "Calculate the hourglass sum for every hourglass in , then print the maximum hourglass sum.\n",
    "\n",
    "Input Format\n",
    "\n",
    "There are  lines of input, where each line contains  space-separated integers describing 2D Array ; every value in  will be in the inclusive range of  to .\n",
    "\n",
    "Constraints\n",
    "\n",
    "Output Format\n",
    "\n",
    "Print the largest (maximum) hourglass sum found in .\n",
    "\n",
    "Sample Input\n",
    "\n",
    "1 1 1 0 0 0\n",
    "0 1 0 0 0 0\n",
    "1 1 1 0 0 0\n",
    "0 0 2 4 4 0\n",
    "0 0 0 2 0 0\n",
    "0 0 1 2 4 0\n",
    "Sample Output\n",
    "\n",
    "19\n",
    "Explanation\n",
    "\n",
    " contains the following hourglasses:\n",
    "\n",
    "1 1 1   1 1 0   1 0 0   0 0 0\n",
    "  1       0       0       0\n",
    "1 1 1   1 1 0   1 0 0   0 0 0\n",
    "\n",
    "0 1 0   1 0 0   0 0 0   0 0 0\n",
    "  1       1       0       0\n",
    "0 0 2   0 2 4   2 4 4   4 4 0\n",
    "\n",
    "1 1 1   1 1 0   1 0 0   0 0 0\n",
    "  0       2       4       4\n",
    "0 0 0   0 0 2   0 2 0   2 0 0\n",
    "\n",
    "0 0 2   0 2 4   2 4 4   4 4 0\n",
    "  0       0       2       0\n",
    "0 0 1   0 1 2   1 2 4   2 4 0\n",
    "The hourglass with the maximum sum () is:\n",
    "\n",
    "2 4 4\n",
    "  2\n",
    "1 2 4"
   ]
  },
  {
   "cell_type": "code",
   "execution_count": 1,
   "metadata": {},
   "outputs": [
    {
     "name": "stdout",
     "output_type": "stream",
     "text": [
      "1 1 1 0 0 0 0 1 0 0 0 0 1 1 1 0 0 0 0 0 2 4 4 0 0 0 0 2 0 0 0 0 1 2 4 0\n",
      "1 1 1 0 0 0 0 1 0 0 0 0 1 1 1 0 0 0 0 0 2 4 4 0 0 0 0 2 0 0 0 0 1 2 4 0\n",
      "1 1 1 0 0 0 0 1 0 0 0 0 1 1 1 0 0 0 0 0 2 4 4 0 0 0 0 2 0 0 0 0 1 2 4 0\n",
      "1 1 1 0 0 0 0 1 0 0 0 0 1 1 1 0 0 0 0 0 2 4 4 0 0 0 0 2 0 0 0 0 1 2 4 0\n",
      "1 1 1 0 0 0 0 1 0 0 0 0 1 1 1 0 0 0 0 0 2 4 4 0 0 0 0 2 0 0 0 0 1 2 4 0\n",
      "1 1 1 0 0 0 0 1 0 0 0 0 1 1 1 0 0 0 0 0 2 4 4 0 0 0 0 2 0 0 0 0 1 2 4 0\n",
      "7\n"
     ]
    }
   ],
   "source": [
    "#!/bin/python3\n",
    "\n",
    "import math\n",
    "import os\n",
    "import random\n",
    "import re\n",
    "import sys\n",
    "\n",
    "\n",
    "\n",
    "if __name__ == '__main__':\n",
    "    arr = []\n",
    "\n",
    "    for _ in range(6):\n",
    "        arr.append(list(map(int, input().rstrip().split())))\n",
    "        hg_shape = [(0, 0), (0, 1), (0, 2), (1, 1), (2, 0), (2, 1), (2, 2)]    \n",
    "    print(max(sum(arr[i+x][j+y] for x, y in hg_shape) for i in range(4) for j in range(4)))"
   ]
  },
  {
   "cell_type": "markdown",
   "metadata": {},
   "source": [
    "Task\n",
    "Given a base- integer, , convert it to binary (base-). Then find and print the base- integer denoting the maximum number of consecutive 's in 's binary representation.\n",
    "\n",
    "Input Format\n",
    "\n",
    "A single integer, .\n",
    "\n",
    "Constraints\n",
    "\n",
    "Output Format\n",
    "\n",
    "Print a single base- integer denoting the maximum number of consecutive 's in the binary representation of .\n",
    "\n",
    "Sample Input 1\n",
    "\n",
    "5\n",
    "Sample Output 1\n",
    "\n",
    "1\n",
    "Sample Input 2\n",
    "\n",
    "13\n",
    "Sample Output 2\n",
    "\n",
    "2\n",
    "Explanation\n",
    "\n",
    "Sample Case 1:\n",
    "The binary representation of  is , so the maximum number of consecutive 's is .\n",
    "\n",
    "Sample Case 2:\n",
    "The binary representation of  is , so the maximum number of consecutive 's is ."
   ]
  },
  {
   "cell_type": "code",
   "execution_count": 2,
   "metadata": {},
   "outputs": [
    {
     "name": "stdout",
     "output_type": "stream",
     "text": [
      "12\n",
      "2\n"
     ]
    }
   ],
   "source": [
    "#!/bin/python3\n",
    "\n",
    "import math\n",
    "import os\n",
    "import random\n",
    "import re\n",
    "import sys\n",
    "\n",
    "if __name__ == '__main__':\n",
    "    n = int(input().strip())\n",
    "    print(max(map(len, bin(n)[2:].split(\"0\"))))\n"
   ]
  },
  {
   "cell_type": "code",
   "execution_count": null,
   "metadata": {},
   "outputs": [],
   "source": []
  }
 ],
 "metadata": {
  "kernelspec": {
   "display_name": "Python 3",
   "language": "python",
   "name": "python3"
  },
  "language_info": {
   "codemirror_mode": {
    "name": "ipython",
    "version": 3
   },
   "file_extension": ".py",
   "mimetype": "text/x-python",
   "name": "python",
   "nbconvert_exporter": "python",
   "pygments_lexer": "ipython3",
   "version": "3.7.4"
  }
 },
 "nbformat": 4,
 "nbformat_minor": 2
}
