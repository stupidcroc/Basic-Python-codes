{
 "cells": [
  {
   "cell_type": "code",
   "execution_count": 7,
   "metadata": {},
   "outputs": [],
   "source": [
    "import numpy as np\n",
    "from sklearn.metrics.pairwise import cosine_similarity"
   ]
  },
  {
   "cell_type": "code",
   "execution_count": 8,
   "metadata": {},
   "outputs": [],
   "source": [
    "# vectors\n",
    "a = np.array([1, 7, 8, 4, 0, 4, 2, 0.3])\n",
    "b = np.array([4, 8, 3, 9, 5, 0.4, 3, 1])"
   ]
  },
  {
   "cell_type": "code",
   "execution_count": 9,
   "metadata": {},
   "outputs": [],
   "source": [
    "# manually compute cosine similarity\n",
    "dot = np.dot(a, b)\n",
    "norma = np.linalg.norm(a)\n",
    "normb = np.linalg.norm(b)\n",
    "cos = dot / (norma * normb)"
   ]
  },
  {
   "cell_type": "code",
   "execution_count": 10,
   "metadata": {},
   "outputs": [
    {
     "name": "stdout",
     "output_type": "stream",
     "text": [
      "127.9\n"
     ]
    }
   ],
   "source": [
    " \n",
    "print(dot)"
   ]
  },
  {
   "cell_type": "code",
   "execution_count": 11,
   "metadata": {},
   "outputs": [
    {
     "name": "stdout",
     "output_type": "stream",
     "text": [
      "12.251122397560152 14.323407415835103 0.7288670550725382\n"
     ]
    }
   ],
   "source": [
    "print(norma,\n",
    "    normb,\n",
    "    cos)"
   ]
  },
  {
   "cell_type": "code",
   "execution_count": 29,
   "metadata": {},
   "outputs": [
    {
     "name": "stdout",
     "output_type": "stream",
     "text": [
      "5\n",
      "145145\n",
      "454\n",
      "4656\n",
      "4545\n",
      "78798\n",
      "46719.6\n",
      "4656\n",
      "{454: 1, 4545: 1, 4656: 1, 78798: 1, 145145: 1}\n"
     ]
    }
   ],
   "source": [
    "# Enter your code here. Read input from STDIN. Print output to STDOUT\n",
    "from collections import Counter \n",
    "#taking the input \n",
    "lst = []\n",
    "N = int(input())\n",
    "#taking the numbers into a list\n",
    "\n",
    "for i in range(0,N):\n",
    "    #elements = int(input())\n",
    "    lst.append(int(input()))\n",
    "#print(lst)\n",
    "def mean1(N,lst):\n",
    "    n_mean = N\n",
    "    lst_mean = lst\n",
    "    getsum = sum(lst_mean)\n",
    "    mean = getsum / n_mean\n",
    "    print(mean)\n",
    "    \n",
    "def median1(N,lst):\n",
    "    n_med = N\n",
    "    lst_med = lst\n",
    "    lst_med.sort()\n",
    "    if n_med % 2 == 0:\n",
    "        med1 = lst_med[n_med // 2]\n",
    "        med2 = lst_med[n_med // 2 - 1]\n",
    "        median = (med1 + med2) / 2\n",
    "    else:\n",
    "        median = lst_med[n_med // 2]\n",
    "    print(median)  \n",
    "    \n",
    "def mode1(N,lst):\n",
    "    n_mod = N\n",
    "    lst_mod = lst\n",
    "    data = Counter(lst_mod)\n",
    "    get_mode = dict(data)\n",
    "    mode = [k for k, v in get_mode.items() if v == max(list(data.values()))] \n",
    "    print(get_mode)\n",
    "\n",
    "mean1(N,lst)\n",
    "median1(N,lst)\n",
    "mode1(N,lst)\n",
    "   \n"
   ]
  },
  {
   "cell_type": "code",
   "execution_count": null,
   "metadata": {},
   "outputs": [],
   "source": []
  }
 ],
 "metadata": {
  "kernelspec": {
   "display_name": "Python 3",
   "language": "python",
   "name": "python3"
  },
  "language_info": {
   "codemirror_mode": {
    "name": "ipython",
    "version": 3
   },
   "file_extension": ".py",
   "mimetype": "text/x-python",
   "name": "python",
   "nbconvert_exporter": "python",
   "pygments_lexer": "ipython3",
   "version": "3.7.4"
  }
 },
 "nbformat": 4,
 "nbformat_minor": 2
}
