{
 "cells": [
  {
   "cell_type": "code",
   "execution_count": 6,
   "metadata": {},
   "outputs": [
    {
     "name": "stdout",
     "output_type": "stream",
     "text": [
      "10\n",
      "1\n",
      "4\n",
      "6\n",
      "8\n",
      "9\n",
      "10\n",
      "12\n",
      "14\n",
      "15\n",
      "16\n"
     ]
    }
   ],
   "source": [
    "#from math import sqrt\n",
    "#def manipulate_generator(generator, n):\n",
    " #   for num in range(3,100000):\n",
    "  #      for q in range(2,num):\n",
    "   #         if num%q==0 and num>n:\n",
    "    #            generator.send(num-1)\n",
    "     #           return\n",
    "#coding challenge to print first n non prime numbers\n",
    "def is_prime(n):\n",
    "    for i in range(2, n):\n",
    "        if n%i == 0:\n",
    "            return False\n",
    "    return True\n",
    "\n",
    "def manipulate_generator(generator, n):\n",
    "    if is_prime(n+1):\n",
    "        next(generator)\n",
    "        manipulate_generator(generator, n+1)\n",
    "\n",
    "def positive_integers_generator():\n",
    "    n = 1\n",
    "    while True:\n",
    "        x = yield n\n",
    "        if x is not None:\n",
    "            n = x\n",
    "        else:\n",
    "            n += 1\n",
    " \n",
    "k = int(input())\n",
    "g = positive_integers_generator()\n",
    "for _ in range(k):\n",
    "    n = next(g)\n",
    "    print(n)\n",
    "    manipulate_generator(g, n)"
   ]
  },
  {
   "cell_type": "code",
   "execution_count": null,
   "metadata": {},
   "outputs": [],
   "source": []
  }
 ],
 "metadata": {
  "kernelspec": {
   "display_name": "Python 3",
   "language": "python",
   "name": "python3"
  },
  "language_info": {
   "codemirror_mode": {
    "name": "ipython",
    "version": 3
   },
   "file_extension": ".py",
   "mimetype": "text/x-python",
   "name": "python",
   "nbconvert_exporter": "python",
   "pygments_lexer": "ipython3",
   "version": "3.7.4"
  }
 },
 "nbformat": 4,
 "nbformat_minor": 2
}
