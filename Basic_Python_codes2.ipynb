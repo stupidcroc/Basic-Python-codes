{
 "cells": [
  {
   "cell_type": "markdown",
   "metadata": {},
   "source": [
    "Code1 Stack\n",
    "\n",
    "A stack is a linear data structure that stores items in a Last-In/First-Out (LIFO) or First-In/Last-Out (FILO) manner. In stack, a new element is added at one end and an element is removed from that end only. The insert and delete operations are often called push and pop"
   ]
  },
  {
   "cell_type": "code",
   "execution_count": 1,
   "metadata": {},
   "outputs": [
    {
     "name": "stdout",
     "output_type": "stream",
     "text": [
      "Initial stack\n",
      "['a', 'b', 'c']\n",
      "\n",
      "Elements poped from stack:\n",
      "c\n",
      "b\n",
      "a\n",
      "\n",
      "Stack after elements are poped:\n",
      "[]\n"
     ]
    }
   ],
   "source": [
    "# Python program to  \n",
    "# demonstrate stack implementation \n",
    "# using list \n",
    "  \n",
    "  \n",
    "stack = [] \n",
    "  \n",
    "# append() function to push \n",
    "# element in the stack \n",
    "stack.append('a') \n",
    "stack.append('b') \n",
    "stack.append('c') \n",
    "  \n",
    "print('Initial stack') \n",
    "print(stack) \n",
    "  \n",
    "# pop() fucntion to pop \n",
    "# element from stack in  \n",
    "# LIFO order \n",
    "print('\\nElements poped from stack:') \n",
    "print(stack.pop()) \n",
    "print(stack.pop()) \n",
    "print(stack.pop()) \n",
    "  \n",
    "print('\\nStack after elements are poped:') \n",
    "print(stack) "
   ]
  },
  {
   "cell_type": "markdown",
   "metadata": {},
   "source": [
    "Implementation of Queue using the OOPS concepts"
   ]
  },
  {
   "cell_type": "code",
   "execution_count": 2,
   "metadata": {},
   "outputs": [
    {
     "name": "stdout",
     "output_type": "stream",
     "text": [
      "True\n",
      "True\n",
      "True\n",
      "3\n",
      "False\n",
      "['Hello', 5, 10]\n",
      "10\n",
      "['Hello', 5]\n"
     ]
    }
   ],
   "source": [
    "class Queue:\n",
    "  \n",
    "  # queue class constructor\n",
    "  def __init__(self):\n",
    "    # initialise the queue\n",
    "    self.queue = list()\n",
    "    \n",
    "  # add data element to the queue\n",
    "  def enqueue(self, data):\n",
    "    # check for duplicate entry\n",
    "    if data not in self.queue:\n",
    "      self.queue.insert(0, data)\n",
    "      return True\n",
    "    else:\n",
    "      return False\n",
    "  \n",
    "  # remove the first data element from the front  \n",
    "  def dequeue(self):\n",
    "    # check whether there is data in queue\n",
    "    if len(self.queue) > 0:\n",
    "      return self.queue.pop()\n",
    "    else:\n",
    "      return False\n",
    "   \n",
    "  # check if queue is empty or not \n",
    "  def isEmpty(self):\n",
    "    if len(self.queue) > 0:\n",
    "      return False\n",
    "    else:\n",
    "      return True\n",
    "  \n",
    "  # return the number of elements in the queue  \n",
    "  def size(self):\n",
    "    return len(self.queue)\n",
    "   \n",
    "  # print the complete queue \n",
    "  def show(self):\n",
    "    print(self.queue)\n",
    "    \n",
    "# as our Queue class is done, now lets use it\n",
    "myQueue = Queue()\n",
    "print(myQueue.enqueue(10)) # return True\n",
    "print(myQueue.enqueue(5)) # return True\n",
    "print(myQueue.enqueue(\"Hello\")) # return True\n",
    "\n",
    "print(myQueue.size()) # return size of queue\n",
    "\n",
    "print(myQueue.isEmpty()) # return True if empty\n",
    "\n",
    "myQueue.show() # prints the complete queue\n",
    "\n",
    "print(myQueue.dequeue()) # return the element removed\n",
    "\n",
    "myQueue.show() # prints the complete queue"
   ]
  },
  {
   "cell_type": "markdown",
   "metadata": {},
   "source": [
    "Linklist"
   ]
  },
  {
   "cell_type": "markdown",
   "metadata": {},
   "source": [
    "Create a class for the nodes. Node for a single linked list contains the item and the reference to the next node. Therefore, our node class will contain two member variables item and ref. The value of the item will be set by the value passed through the constructor, while the reference will be initially set to null."
   ]
  },
  {
   "cell_type": "code",
   "execution_count": 4,
   "metadata": {},
   "outputs": [],
   "source": [
    "class Node:\n",
    "    def __init__(self,data):\n",
    "        self.item = data\n",
    "        self.ref = None"
   ]
  },
  {
   "cell_type": "markdown",
   "metadata": {},
   "source": [
    "Create a class for the Linked List. This class will contain the methods to insert, remove, traverse and sort the list. Initially, the class will only contain one member start_node that will point to the starting or first node of the list. The value of start_node will be set to null using the constructor since the linked list will be empty at the time of creation."
   ]
  },
  {
   "cell_type": "code",
   "execution_count": 37,
   "metadata": {},
   "outputs": [],
   "source": [
    "class Linklist:\n",
    "    def __init__(self):\n",
    "        self.start_node = None\n",
    "        \n",
    "    def travserse_list(self):\n",
    "        if self.start_node is None:\n",
    "            print(\"List has no element\")\n",
    "            return\n",
    "        else:\n",
    "            n = self.start_node\n",
    "            while n is not None:\n",
    "                print(n.item, \" \")\n",
    "                n = n.ref\n",
    "   \n",
    "    def insert_at_start(self, data):\n",
    "        new_node = Node(data)\n",
    "        new_node.ref = self.start_node\n",
    "        self.start_node= new_node\n",
    "        \n",
    "    def insert_at_end(self, data):\n",
    "        new_node = Node(data)\n",
    "        if self.start_node is None:\n",
    "            self.start_node = new_node\n",
    "            return\n",
    "        n = self.start_node\n",
    "        while n.ref is not None:\n",
    "            n= n.ref\n",
    "        n.ref = new_node;\n",
    "        \n",
    "    def insert_after_item(self, x, data):\n",
    "\n",
    "        n = self.start_node\n",
    "        print(n.ref)\n",
    "        while n is not None:\n",
    "            if n.item == x:\n",
    "                break\n",
    "            n = n.ref\n",
    "        if n is None:\n",
    "            print(\"item not in the list\")\n",
    "        else:\n",
    "            new_node = Node(data)\n",
    "            new_node.ref = n.ref\n",
    "            n.ref = new_node\n",
    "            \n",
    "    def insert_before_item(self, x, data):\n",
    "        if self.start_node is None:\n",
    "            print(\"List has no element\")\n",
    "            return\n",
    "\n",
    "        if x == self.start_node.item:\n",
    "            new_node = Node(data)\n",
    "            new_node.ref = self.start_node\n",
    "            self.start_node = new_node\n",
    "            return\n",
    "\n",
    "        n = self.start_node\n",
    "        print(n.ref)\n",
    "        while n.ref is not None:\n",
    "            if n.ref.item == x:\n",
    "                break\n",
    "            n = n.ref\n",
    "        if n.ref is None:\n",
    "            print(\"item not in the list\")\n",
    "        else:\n",
    "            new_node = Node(data)\n",
    "            new_node.ref = n.ref\n",
    "            n.ref = new_node\n",
    "            \n",
    "    def insert_at_index (self, index, data):\n",
    "        if index == 1:\n",
    "            new_node = Node(data)\n",
    "            new_node.ref = self.start_node\n",
    "            self.start_node = new_node\n",
    "        i = 1\n",
    "        n = self.start_node\n",
    "        while i < index-1 and n is not None:\n",
    "            n = n.ref\n",
    "            i = i+1\n",
    "        if n is None:\n",
    "            print(\"Index out of bound\")\n",
    "        else: \n",
    "            new_node = Node(data)\n",
    "            new_node.ref = n.ref\n",
    "            n.ref = new_node\n",
    "    "
   ]
  },
  {
   "cell_type": "markdown",
   "metadata": {},
   "source": [
    "Traverse function is as follows. Add the function below to the LinkedList class that we created in the last section."
   ]
  },
  {
   "cell_type": "markdown",
   "metadata": {},
   "source": [
    "The simplest way to insert an item in a single linked list is to add an item at the start of the list. The following function inserts item at the start of the list. "
   ]
  },
  {
   "cell_type": "markdown",
   "metadata": {},
   "source": [
    "Inserting Items at the End\n",
    "The following function is used to add an item at the end of the linked list."
   ]
  },
  {
   "cell_type": "markdown",
   "metadata": {},
   "source": [
    "We may need to add item after another item in a single linked list. To do so, we can use the insert_after_item() function as defined below:"
   ]
  },
  {
   "cell_type": "markdown",
   "metadata": {},
   "source": [
    "Inserting Item before another Item"
   ]
  },
  {
   "cell_type": "markdown",
   "metadata": {},
   "source": [
    "Inserting Item at Specific Index"
   ]
  },
  {
   "cell_type": "markdown",
   "metadata": {},
   "source": [
    "Testing"
   ]
  },
  {
   "cell_type": "code",
   "execution_count": 38,
   "metadata": {},
   "outputs": [],
   "source": [
    "new_linked_list = Linklist()\n",
    "#new_linked_list.insert_at_end(5)"
   ]
  },
  {
   "cell_type": "code",
   "execution_count": 39,
   "metadata": {},
   "outputs": [],
   "source": [
    "new_linked_list.insert_at_end(5)\n",
    "new_linked_list.insert_at_end(10)\n",
    "new_linked_list.insert_at_end(15)"
   ]
  },
  {
   "cell_type": "code",
   "execution_count": 41,
   "metadata": {},
   "outputs": [
    {
     "name": "stdout",
     "output_type": "stream",
     "text": [
      "5  \n",
      "10  \n",
      "15  \n"
     ]
    }
   ],
   "source": [
    "new_linked_list.travserse_list()"
   ]
  },
  {
   "cell_type": "code",
   "execution_count": 42,
   "metadata": {},
   "outputs": [],
   "source": [
    "new_linked_list.insert_at_start(20)"
   ]
  },
  {
   "cell_type": "code",
   "execution_count": 43,
   "metadata": {},
   "outputs": [
    {
     "name": "stdout",
     "output_type": "stream",
     "text": [
      "20  \n",
      "5  \n",
      "10  \n",
      "15  \n"
     ]
    }
   ],
   "source": [
    "new_linked_list.travserse_list()"
   ]
  },
  {
   "cell_type": "code",
   "execution_count": 44,
   "metadata": {},
   "outputs": [
    {
     "name": "stdout",
     "output_type": "stream",
     "text": [
      "<__main__.Node object at 0x000001F997E8EB48>\n"
     ]
    }
   ],
   "source": [
    "new_linked_list.insert_after_item(10, 17)"
   ]
  },
  {
   "cell_type": "code",
   "execution_count": 45,
   "metadata": {},
   "outputs": [
    {
     "name": "stdout",
     "output_type": "stream",
     "text": [
      "20  \n",
      "5  \n",
      "10  \n",
      "17  \n",
      "15  \n"
     ]
    }
   ],
   "source": [
    "new_linked_list.travserse_list()"
   ]
  },
  {
   "cell_type": "code",
   "execution_count": 46,
   "metadata": {},
   "outputs": [
    {
     "name": "stdout",
     "output_type": "stream",
     "text": [
      "<__main__.Node object at 0x000001F997E8EB48>\n"
     ]
    }
   ],
   "source": [
    "new_linked_list.insert_before_item(17, 25)"
   ]
  },
  {
   "cell_type": "code",
   "execution_count": 47,
   "metadata": {},
   "outputs": [
    {
     "name": "stdout",
     "output_type": "stream",
     "text": [
      "20  \n",
      "5  \n",
      "10  \n",
      "25  \n",
      "17  \n",
      "15  \n"
     ]
    }
   ],
   "source": [
    "new_linked_list.travserse_list()"
   ]
  },
  {
   "cell_type": "code",
   "execution_count": 48,
   "metadata": {},
   "outputs": [],
   "source": [
    "new_linked_list.insert_at_index(3,8)"
   ]
  },
  {
   "cell_type": "code",
   "execution_count": 49,
   "metadata": {},
   "outputs": [
    {
     "name": "stdout",
     "output_type": "stream",
     "text": [
      "20  \n",
      "5  \n",
      "8  \n",
      "10  \n",
      "25  \n",
      "17  \n",
      "15  \n"
     ]
    }
   ],
   "source": [
    "new_linked_list.travserse_list()"
   ]
  },
  {
   "cell_type": "code",
   "execution_count": null,
   "metadata": {},
   "outputs": [],
   "source": []
  }
 ],
 "metadata": {
  "kernelspec": {
   "display_name": "Python 3",
   "language": "python",
   "name": "python3"
  },
  "language_info": {
   "codemirror_mode": {
    "name": "ipython",
    "version": 3
   },
   "file_extension": ".py",
   "mimetype": "text/x-python",
   "name": "python",
   "nbconvert_exporter": "python",
   "pygments_lexer": "ipython3",
   "version": "3.7.4"
  }
 },
 "nbformat": 4,
 "nbformat_minor": 2
}
